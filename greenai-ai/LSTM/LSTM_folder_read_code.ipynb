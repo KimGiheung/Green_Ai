{
  "nbformat": 4,
  "nbformat_minor": 0,
  "metadata": {
    "colab": {
      "name": "LSTM_folder_read_code",
      "provenance": [],
      "collapsed_sections": []
    },
    "kernelspec": {
      "name": "python3",
      "display_name": "Python 3"
    },
    "language_info": {
      "name": "python"
    }
  },
  "cells": [
    {
      "cell_type": "code",
      "source": [
        "import platform\n",
        "platform.platform()"
      ],
      "metadata": {
        "colab": {
          "base_uri": "https://localhost:8080/",
          "height": 35
        },
        "id": "JV3qxV2CW8go",
        "outputId": "40e01b31-097a-42fc-faa9-f229992fdf2d"
      },
      "execution_count": null,
      "outputs": [
        {
          "output_type": "execute_result",
          "data": {
            "text/plain": [
              "'Linux-5.4.188+-x86_64-with-Ubuntu-18.04-bionic'"
            ],
            "application/vnd.google.colaboratory.intrinsic+json": {
              "type": "string"
            }
          },
          "metadata": {},
          "execution_count": 169
        }
      ]
    },
    {
      "cell_type": "code",
      "source": [
        "from google.colab import drive\n",
        "drive.mount('/content/drive')"
      ],
      "metadata": {
        "colab": {
          "base_uri": "https://localhost:8080/"
        },
        "id": "3g5FmN1r9gcd",
        "outputId": "34716c5c-8675-4144-db26-581bb0d05556"
      },
      "execution_count": null,
      "outputs": [
        {
          "output_type": "stream",
          "name": "stdout",
          "text": [
            "Drive already mounted at /content/drive; to attempt to forcibly remount, call drive.mount(\"/content/drive\", force_remount=True).\n"
          ]
        }
      ]
    },
    {
      "cell_type": "code",
      "source": [
        "from pandas import read_csv\n",
        "import datetime\n",
        "from pandas import concat\n",
        "import numpy as np\n",
        "# load data\n",
        "def parse(x):\n",
        "\treturn datetime.datetime.strptime(x, '%Y %m %d %H')\n",
        "\n",
        "# 첫 주행 날짜\n",
        "first_date = datetime.datetime.strptime(\"20220801\", \"%Y%m%d\")\n",
        "first_date_str = str(first_date)\n",
        "first_date_str = first_date_str[:first_date_str.find(' ')].replace('-', '')\n",
        "print(first_date_str)\n",
        "print(first_date)\n",
        "# 현재 날짜\n",
        "now_date  = datetime.datetime.now()\n",
        "\n",
        "# 받아올 데이터 일수\n",
        "read_time = str(now_date - first_date)\n",
        "read_time = int(read_time[:read_time.find(' ')])\n",
        "print(read_time)\n",
        "\n",
        "dataset = []\n",
        "\n",
        "# 역대 환경 데이터를 모두 읽어옴\n",
        "for i in range(read_time+1):\n",
        "\tread_file_name = str(first_date + datetime.timedelta(days = i))\n",
        "\tread_file_name = read_file_name[:read_file_name.find(' ')].replace('-', '')\n",
        "\tprint(read_file_name)\n",
        "\tdataset.append(read_csv('/content/drive/MyDrive/dataset/pollution_data' + '/fake_data_' + read_file_name +'.csv',  parse_dates = [['year', 'month', 'day', 'hour']], index_col=0, date_parser=parse))\n",
        "\n",
        "dataset = concat([dataset[i] for i in range(len(dataset))], axis=0)\n",
        "dataset.drop('No', axis=1, inplace=True) \n",
        "# manually specify column names\n",
        "dataset.columns = ['local', 'temp', 'humidity', 'metter']\n",
        "dataset.index.name = 'date'\n",
        "\n",
        "print(dataset.head(5)) \n",
        "# save to file\n",
        "dataset.to_csv('/content/drive/MyDrive/dataset/pollution_data/pollution.csv')\n",
        "print(dataset)"
      ],
      "metadata": {
        "colab": {
          "base_uri": "https://localhost:8080/"
        },
        "id": "xVLW7A2B1lyJ",
        "outputId": "070c1b9e-bcee-4434-814f-e4cd7a330460"
      },
      "execution_count": null,
      "outputs": [
        {
          "output_type": "stream",
          "name": "stdout",
          "text": [
            "20220801\n",
            "2022-08-01 00:00:00\n",
            "22\n",
            "20220801\n",
            "20220802\n",
            "20220803\n",
            "20220804\n",
            "20220805\n",
            "20220806\n",
            "20220807\n",
            "20220808\n",
            "20220809\n",
            "20220810\n",
            "20220811\n",
            "20220812\n",
            "20220813\n",
            "20220814\n",
            "20220815\n",
            "20220816\n",
            "20220817\n",
            "20220818\n",
            "20220819\n",
            "20220820\n",
            "20220821\n",
            "20220822\n",
            "20220823\n",
            "                     local  temp  humidity  metter\n",
            "date                                              \n",
            "2022-08-01 09:00:00      1  23.5      38.3       3\n",
            "2022-08-01 09:00:00      2  23.6      37.0       3\n",
            "2022-08-01 09:00:00      3  23.8      35.0       3\n",
            "2022-08-01 09:00:00      4  23.9      34.0       3\n",
            "2022-08-01 09:00:00      5  23.3      33.5       2\n",
            "                     local  temp  humidity  metter\n",
            "date                                              \n",
            "2022-08-01 09:00:00      1  23.5      38.3       3\n",
            "2022-08-01 09:00:00      2  23.6      37.0       3\n",
            "2022-08-01 09:00:00      3  23.8      35.0       3\n",
            "2022-08-01 09:00:00      4  23.9      34.0       3\n",
            "2022-08-01 09:00:00      5  23.3      33.5       2\n",
            "...                    ...   ...       ...     ...\n",
            "2022-08-23 21:00:00      2  20.8      57.7       1\n",
            "2022-08-23 21:00:00      3  19.2      55.4       1\n",
            "2022-08-23 21:00:00      4  18.8      54.5       0\n",
            "2022-08-23 21:00:00      5  19.8      55.1       1\n",
            "2022-08-23 21:00:00      6  19.4      56.2       0\n",
            "\n",
            "[1794 rows x 4 columns]\n"
          ]
        }
      ]
    },
    {
      "cell_type": "code",
      "source": [
        "from matplotlib import pyplot\n",
        "# load dataset\n",
        "dataset = read_csv('/content/drive/MyDrive/dataset/pollution_data/pollution.csv', header=0, index_col=0)\n",
        "values = dataset.values\n",
        "# specify columns to plot\n",
        "groups = [0, 1, 2, 3]\n",
        "i = 1\n",
        "# plot each column\n",
        "pyplot.figure()\n",
        "for group in groups:\n",
        "\tpyplot.subplot(len(groups), 1, i)\n",
        "\tpyplot.plot(values[:, group])\n",
        "\tpyplot.title(dataset.columns[group], y=0.5, loc='right')\n",
        "\ti += 1\n",
        "pyplot.show()"
      ],
      "metadata": {
        "id": "1ZxGHOiM10m0",
        "colab": {
          "base_uri": "https://localhost:8080/",
          "height": 265
        },
        "outputId": "6f540f1b-8241-4053-fa0a-3aaedc6935f4"
      },
      "execution_count": null,
      "outputs": [
        {
          "output_type": "display_data",
          "data": {
            "text/plain": [
              "<Figure size 432x288 with 4 Axes>"
            ],
            "image/png": "[encoded data removed]"
          },
          "metadata": {
            "needs_background": "light"
          }
        }
      ]
    },
    {
      "cell_type": "code",
      "source": [
        "# prepare data for lstm\n",
        "from pandas import DataFrame\n",
        "\n",
        "from sklearn.preprocessing import LabelEncoder\n",
        "from sklearn.preprocessing import MinMaxScaler\n",
        "# convert series to supervised learning\n",
        "def series_to_supervised(data, n_in=1, n_out=1, dropnan=True):\n",
        "\tn_vars = 1 if type(data) is list else data.shape[1]\n",
        "\tdf = DataFrame(data)\n",
        "\t# print(df)\n",
        "\tcols, names = list(), list()\n",
        "\t# 7일 전의 환경 데이터를 input, 7일 후의 환경 데이터를 target으로 설정\n",
        "\tcols.append(df.shift(6*13*7))\n",
        "\tnames += [('var%d(t-%d)' % (j+1, 7)) for j in range(n_vars)]\n",
        "\t# forecast sequence (t, t+1, ... t+n)\n",
        "\tcols.append(df)\n",
        "\tnames += [('var%d(t)' % (j+1)) for j in range(n_vars)]\n",
        "\n",
        "\t# put it all together\n",
        "\tagg = concat(cols, axis=1)\n",
        "\tagg.columns = names\n",
        "\t# drop rows with NaN values\n",
        "\tif dropnan:\n",
        "\t\tagg.dropna(inplace=True)\n",
        "\t# drop columns we don't want to predict\n",
        "\tagg.drop(agg.columns[[3,4]], axis=1, inplace=True)\n",
        "\t\n",
        "\t# 구역에 따라  환경데이터를 묶어준다.\n",
        "\tlocal = agg[['var1(t-7)',  'var2(t-7)',  'var3(t-7)']].values\n",
        "\tlocal = local.reshape(13*int((local.shape[0]/13/6)),6,3)\n",
        "\tlabel = agg['var3(t)'].values\n",
        "\tlabel = label.reshape(13*int((label.shape[0]/13/6)),6)\n",
        "\treturn local, label\n",
        "\n",
        "# load dataset\n",
        "dataset = read_csv('/content/drive/MyDrive/dataset/pollution_data/pollution.csv', header=0, index_col=0)\n",
        "values = dataset.drop(['local'], axis = 1).values\n",
        "# integer encode direction\n",
        "encoder = LabelEncoder()\n",
        "# ensure all data is float\n",
        "values = values.astype('float32')\n",
        "# normalize features\n",
        "scaler = MinMaxScaler(feature_range=(0, 1))\n",
        "scaled = scaler.fit_transform(values)\n",
        "# frame as supervised learning\n",
        "reframed, target = series_to_supervised(scaled, 1, 1)\n",
        "print(reframed.shape, target.shape)"
      ],
      "metadata": {
        "colab": {
          "base_uri": "https://localhost:8080/"
        },
        "id": "yiuyoPOcB6Fp",
        "outputId": "0697ad4e-b58f-468b-c2d4-2561af4b9582"
      },
      "execution_count": null,
      "outputs": [
        {
          "output_type": "stream",
          "name": "stdout",
          "text": [
            "(208, 6, 3) (208, 6)\n"
          ]
        }
      ]
    },
    {
      "cell_type": "code",
      "source": [
        "# split into train and test sets\n",
        "values = reframed\n",
        "# 5일치를 학습시킴\n",
        "n_train_hours = int(values.shape[0]/13/3)*2*13\n",
        "train_X, train_y = values[:n_train_hours], target[:n_train_hours]\n",
        "test_X,  test_y  = values[n_train_hours:], target[n_train_hours:]\n",
        "\n",
        "# reshape input to be 3D [samples, timesteps, features]\n",
        "print(train_X.shape, train_y.shape, test_X.shape, test_y.shape)\n",
        "print(train_X, train_y)"
      ],
      "metadata": {
        "colab": {
          "base_uri": "https://localhost:8080/"
        },
        "id": "_HDD44YEGrAi",
        "outputId": "da894096-8b49-4756-9404-5c92e0e0d7f5"
      },
      "execution_count": null,
      "outputs": [
        {
          "output_type": "stream",
          "name": "stdout",
          "text": [
            "(130, 6, 3) (130, 6) (78, 6, 3) (78, 6)\n",
            "[[[5.92801645e-02 2.21453190e-01 1.00000000e+00]\n",
            "  [5.99858835e-02 1.76470518e-01 1.00000000e+00]\n",
            "  [6.13973066e-02 1.07266426e-01 1.00000000e+00]\n",
            "  [6.21030256e-02 7.26642609e-02 1.00000000e+00]\n",
            "  [5.78687266e-02 5.53632975e-02 6.66666687e-01]\n",
            "  [5.71630225e-02 1.03806257e-02 6.66666687e-01]]\n",
            "\n",
            " [[6.63373247e-02 2.21453190e-01 1.00000000e+00]\n",
            "  [7.33944997e-02 1.76470518e-01 3.33333343e-01]\n",
            "  [8.25688019e-02 1.07266426e-01 6.66666687e-01]\n",
            "  [8.32745209e-02 7.26642609e-02 3.33333343e-01]\n",
            "  [8.60973820e-02 5.53632975e-02 3.33333343e-01]\n",
            "  [9.24488381e-02 1.03806257e-02 3.33333343e-01]]\n",
            "\n",
            " [[1.04446016e-01 2.21453190e-01 1.00000000e+00]\n",
            "  [9.66831222e-02 1.76470518e-01 3.33333343e-01]\n",
            "  [8.25688019e-02 1.07266426e-01 6.66666687e-01]\n",
            "  [8.32745209e-02 7.26642609e-02 3.33333343e-01]\n",
            "  [8.04516599e-02 5.53632975e-02 0.00000000e+00]\n",
            "  [7.69230798e-02 1.03806257e-02 3.33333343e-01]]\n",
            "\n",
            " ...\n",
            "\n",
            " [[2.39943489e-02 6.29757643e-01 3.33333343e-01]\n",
            "  [1.69371888e-02 6.57439470e-01 3.33333343e-01]\n",
            "  [1.19971633e-02 7.26643562e-01 6.66666687e-01]\n",
            "  [1.27028823e-02 7.26643562e-01 0.00000000e+00]\n",
            "  [9.88002121e-03 7.30103731e-01 3.33333343e-01]\n",
            "  [1.34086013e-02 7.02422142e-01 6.66666687e-01]]\n",
            "\n",
            " [[1.69371888e-02 6.19377136e-01 6.66666687e-01]\n",
            "  [1.83486268e-02 5.91695428e-01 3.33333343e-01]\n",
            "  [1.19971633e-02 5.88235259e-01 0.00000000e+00]\n",
            "  [1.12914592e-02 5.84774971e-01 3.33333343e-01]\n",
            "  [6.35144114e-03 5.43252468e-01 3.33333343e-01]\n",
            "  [9.88002121e-03 5.29411793e-01 3.33333343e-01]]\n",
            "\n",
            " [[2.82286108e-03 5.32871962e-01 3.33333343e-01]\n",
            "  [0.00000000e+00 4.91349339e-01 6.66666687e-01]\n",
            "  [7.05711544e-04 4.53287125e-01 3.33333343e-01]\n",
            "  [9.88002121e-03 4.91349339e-01 3.33333343e-01]\n",
            "  [8.46858323e-03 5.74394464e-01 3.33333343e-01]\n",
            "  [9.17430222e-03 4.94809628e-01 0.00000000e+00]]] [[1.         1.         1.         1.         0.6666667  0.6666667 ]\n",
            " [1.         0.33333334 0.6666667  0.33333334 0.33333334 0.33333334]\n",
            " [1.         0.33333334 0.6666667  0.33333334 0.         0.33333334]\n",
            " [1.         0.33333334 0.6666667  0.33333334 1.         1.        ]\n",
            " [1.         1.         0.6666667  1.         0.6666667  0.6666667 ]\n",
            " [0.6666667  0.33333334 0.6666667  0.33333334 0.33333334 0.33333334]\n",
            " [1.         0.33333334 0.6666667  0.33333334 0.33333334 0.33333334]\n",
            " [1.         0.33333334 0.6666667  0.33333334 0.33333334 0.33333334]\n",
            " [0.         0.33333334 0.6666667  0.33333334 0.33333334 1.        ]\n",
            " [1.         1.         0.6666667  1.         0.6666667  0.33333334]\n",
            " [0.33333334 0.         0.33333334 0.         0.33333334 0.33333334]\n",
            " [0.33333334 0.         0.6666667  0.33333334 0.33333334 0.33333334]\n",
            " [1.         0.33333334 0.         0.33333334 0.33333334 0.        ]\n",
            " [1.         1.         1.         1.         0.6666667  0.33333334]\n",
            " [1.         0.33333334 0.6666667  0.33333334 0.33333334 0.33333334]\n",
            " [1.         0.33333334 0.6666667  0.33333334 0.6666667  0.33333334]\n",
            " [0.6666667  0.6666667  0.33333334 1.         0.6666667  0.6666667 ]\n",
            " [1.         0.6666667  0.33333334 1.         0.33333334 0.33333334]\n",
            " [0.6666667  0.33333334 0.6666667  0.6666667  0.33333334 0.33333334]\n",
            " [1.         0.33333334 0.6666667  0.33333334 0.33333334 0.6666667 ]\n",
            " [1.         0.33333334 0.6666667  0.33333334 0.6666667  0.33333334]\n",
            " [0.         0.33333334 0.6666667  0.         0.         1.        ]\n",
            " [1.         1.         0.6666667  1.         0.33333334 0.        ]\n",
            " [0.33333334 0.33333334 0.         0.33333334 0.         0.33333334]\n",
            " [0.33333334 0.6666667  0.6666667  0.33333334 0.33333334 0.        ]\n",
            " [0.33333334 0.33333334 0.         0.         0.33333334 0.        ]\n",
            " [0.33333334 0.33333334 0.6666667  0.33333334 0.         0.33333334]\n",
            " [0.6666667  0.6666667  0.33333334 0.33333334 0.33333334 0.33333334]\n",
            " [0.33333334 0.33333334 0.33333334 0.33333334 0.6666667  0.6666667 ]\n",
            " [0.6666667  0.33333334 0.33333334 0.33333334 0.33333334 0.6666667 ]\n",
            " [0.6666667  0.33333334 0.         0.6666667  0.33333334 0.6666667 ]\n",
            " [0.6666667  0.33333334 0.33333334 0.33333334 0.33333334 0.        ]\n",
            " [0.33333334 0.33333334 0.6666667  0.33333334 0.33333334 0.33333334]\n",
            " [0.33333334 0.33333334 0.6666667  0.33333334 0.         0.33333334]\n",
            " [0.6666667  0.33333334 0.33333334 0.         0.6666667  0.33333334]\n",
            " [0.6666667  0.33333334 0.6666667  0.33333334 0.33333334 0.33333334]\n",
            " [0.33333334 0.33333334 0.6666667  0.         0.33333334 0.6666667 ]\n",
            " [0.6666667  0.33333334 0.         0.33333334 0.33333334 0.33333334]\n",
            " [0.33333334 0.6666667  0.33333334 0.33333334 0.33333334 0.        ]\n",
            " [0.33333334 0.33333334 0.33333334 0.33333334 0.6666667  0.33333334]\n",
            " [0.33333334 0.6666667  0.33333334 0.33333334 0.         0.33333334]\n",
            " [0.6666667  0.33333334 0.33333334 0.33333334 0.6666667  0.6666667 ]\n",
            " [1.         1.         0.6666667  0.33333334 0.33333334 0.6666667 ]\n",
            " [1.         0.6666667  0.6666667  0.6666667  0.33333334 0.6666667 ]\n",
            " [0.6666667  1.         0.33333334 0.33333334 0.33333334 0.33333334]\n",
            " [0.6666667  0.6666667  0.6666667  0.6666667  0.33333334 0.33333334]\n",
            " [0.6666667  0.6666667  0.6666667  0.33333334 0.33333334 0.33333334]\n",
            " [0.6666667  0.6666667  0.33333334 0.33333334 0.33333334 0.33333334]\n",
            " [1.         0.33333334 0.6666667  0.6666667  0.33333334 0.6666667 ]\n",
            " [0.6666667  0.33333334 0.33333334 0.6666667  0.33333334 0.33333334]\n",
            " [0.6666667  0.6666667  0.6666667  0.6666667  0.33333334 0.6666667 ]\n",
            " [0.33333334 0.6666667  0.33333334 0.33333334 0.         0.        ]\n",
            " [1.         1.         0.6666667  0.6666667  0.33333334 0.33333334]\n",
            " [0.6666667  0.6666667  0.33333334 0.33333334 0.33333334 0.6666667 ]\n",
            " [0.6666667  0.33333334 0.33333334 0.33333334 0.33333334 0.6666667 ]\n",
            " [1.         1.         0.6666667  0.33333334 0.33333334 0.33333334]\n",
            " [1.         0.6666667  0.33333334 0.6666667  0.33333334 0.6666667 ]\n",
            " [0.6666667  0.6666667  0.33333334 0.33333334 0.33333334 0.6666667 ]\n",
            " [0.33333334 0.6666667  0.6666667  0.33333334 0.33333334 0.33333334]\n",
            " [0.6666667  0.33333334 0.6666667  0.33333334 0.33333334 0.6666667 ]\n",
            " [0.6666667  0.6666667  0.33333334 0.33333334 0.33333334 0.33333334]\n",
            " [1.         1.         0.6666667  0.6666667  0.33333334 0.6666667 ]\n",
            " [0.6666667  0.33333334 0.33333334 0.         0.33333334 0.33333334]\n",
            " [0.6666667  0.6666667  0.         0.33333334 0.         0.33333334]\n",
            " [0.6666667  0.6666667  0.33333334 0.         0.         0.33333334]\n",
            " [1.         1.         1.         0.6666667  0.33333334 0.33333334]\n",
            " [1.         1.         0.33333334 0.6666667  0.6666667  0.6666667 ]\n",
            " [1.         0.33333334 0.33333334 0.         0.33333334 0.6666667 ]\n",
            " [1.         1.         0.33333334 0.6666667  0.33333334 0.33333334]\n",
            " [1.         0.6666667  0.6666667  0.6666667  0.6666667  0.6666667 ]\n",
            " [1.         1.         0.6666667  0.33333334 0.6666667  0.33333334]\n",
            " [0.6666667  0.33333334 0.33333334 0.33333334 0.6666667  0.33333334]\n",
            " [0.6666667  0.33333334 0.33333334 0.33333334 0.33333334 0.33333334]\n",
            " [1.         0.6666667  0.33333334 0.33333334 0.33333334 0.33333334]\n",
            " [1.         1.         1.         1.         0.6666667  1.        ]\n",
            " [0.6666667  0.6666667  0.33333334 0.6666667  0.6666667  0.33333334]\n",
            " [0.6666667  0.6666667  0.33333334 0.33333334 0.         0.33333334]\n",
            " [1.         0.6666667  0.33333334 0.33333334 0.33333334 0.6666667 ]\n",
            " [1.         1.         0.6666667  1.         0.6666667  0.33333334]\n",
            " [0.6666667  0.6666667  0.33333334 0.33333334 0.6666667  1.        ]\n",
            " [0.6666667  0.33333334 0.6666667  0.         0.33333334 0.33333334]\n",
            " [0.6666667  1.         0.6666667  0.6666667  0.33333334 0.        ]\n",
            " [1.         1.         0.33333334 0.33333334 0.6666667  0.6666667 ]\n",
            " [1.         1.         0.33333334 0.33333334 0.6666667  0.        ]\n",
            " [0.33333334 0.33333334 0.6666667  0.33333334 0.6666667  0.33333334]\n",
            " [0.33333334 0.33333334 0.6666667  0.         0.33333334 0.6666667 ]\n",
            " [0.33333334 0.6666667  0.         0.33333334 0.         0.33333334]\n",
            " [0.33333334 0.         0.33333334 0.         0.         0.        ]\n",
            " [0.33333334 0.33333334 0.33333334 0.6666667  0.         0.33333334]\n",
            " [0.6666667  0.33333334 0.6666667  0.33333334 0.         0.33333334]\n",
            " [0.33333334 0.33333334 0.33333334 0.         0.33333334 0.        ]\n",
            " [1.         1.         1.         0.6666667  0.33333334 0.6666667 ]\n",
            " [1.         0.33333334 0.6666667  1.         0.33333334 0.6666667 ]\n",
            " [1.         0.33333334 0.33333334 0.6666667  0.33333334 0.        ]\n",
            " [1.         1.         0.6666667  0.         0.33333334 0.6666667 ]\n",
            " [1.         1.         1.         0.6666667  0.33333334 0.6666667 ]\n",
            " [0.33333334 0.33333334 0.6666667  0.33333334 0.33333334 0.33333334]\n",
            " [0.6666667  0.6666667  0.6666667  0.33333334 0.33333334 0.33333334]\n",
            " [1.         0.33333334 0.33333334 0.33333334 0.33333334 0.33333334]\n",
            " [0.         0.33333334 0.6666667  0.33333334 0.         0.6666667 ]\n",
            " [1.         1.         1.         1.         0.6666667  0.33333334]\n",
            " [0.33333334 0.         0.6666667  0.         0.33333334 0.6666667 ]\n",
            " [0.33333334 0.         0.6666667  0.33333334 0.33333334 0.6666667 ]\n",
            " [1.         0.6666667  0.         0.33333334 0.33333334 0.6666667 ]\n",
            " [1.         1.         0.6666667  0.6666667  0.6666667  0.33333334]\n",
            " [1.         0.33333334 0.6666667  0.33333334 0.         0.33333334]\n",
            " [0.6666667  0.33333334 0.6666667  0.33333334 0.         0.33333334]\n",
            " [1.         0.6666667  0.6666667  1.         0.6666667  0.        ]\n",
            " [1.         0.6666667  0.6666667  1.         0.33333334 0.33333334]\n",
            " [1.         0.6666667  0.6666667  0.6666667  0.         0.33333334]\n",
            " [1.         0.33333334 0.6666667  0.33333334 0.33333334 0.        ]\n",
            " [1.         0.6666667  0.6666667  0.33333334 0.6666667  0.33333334]\n",
            " [0.         0.33333334 0.6666667  0.33333334 0.         1.        ]\n",
            " [1.         0.6666667  0.6666667  1.         0.33333334 0.        ]\n",
            " [0.33333334 0.33333334 0.6666667  0.33333334 0.         0.        ]\n",
            " [0.33333334 0.33333334 0.6666667  0.33333334 0.33333334 0.        ]\n",
            " [0.33333334 0.33333334 0.6666667  0.         0.33333334 0.6666667 ]\n",
            " [1.         1.         0.6666667  0.6666667  0.33333334 0.33333334]\n",
            " [0.33333334 0.33333334 0.6666667  0.         0.         0.33333334]\n",
            " [0.6666667  0.33333334 0.33333334 0.33333334 0.33333334 0.        ]\n",
            " [0.6666667  0.33333334 0.33333334 0.33333334 0.33333334 0.        ]\n",
            " [0.6666667  0.33333334 0.33333334 0.6666667  0.33333334 0.33333334]\n",
            " [0.6666667  0.33333334 0.33333334 0.33333334 0.33333334 0.        ]\n",
            " [0.33333334 0.33333334 0.6666667  0.33333334 0.33333334 0.33333334]\n",
            " [1.         0.33333334 0.6666667  0.33333334 0.33333334 0.33333334]\n",
            " [0.6666667  0.33333334 0.33333334 0.         0.33333334 0.33333334]\n",
            " [0.6666667  0.6666667  0.33333334 0.33333334 0.33333334 0.6666667 ]\n",
            " [1.         0.33333334 0.33333334 0.         0.33333334 0.33333334]\n",
            " [1.         0.6666667  0.         0.33333334 0.33333334 0.        ]\n",
            " [0.33333334 0.33333334 0.33333334 0.33333334 0.         0.        ]]\n"
          ]
        }
      ]
    },
    {
      "cell_type": "code",
      "source": [
        "\n",
        "from keras.models import Sequential\n",
        "from keras.layers import Dense, LSTM\n",
        "from keras.layers import BatchNormalization\n",
        "\n",
        "\n",
        "# design network\n",
        "\n",
        "model = Sequential()\n",
        "model.add(LSTM(25, input_shape=(train_X.shape[1], train_X.shape[2]), activation=\"softsign\", recurrent_activation=\"elu\"))\n",
        "model.add(Dense(5))\n",
        "model.add(Dense(16))\n",
        "model.add(Dense(8))\n",
        "model.add(Dense(6))\n",
        "model.compile(loss='mae', optimizer='adam', metrics=['accuracy'])\n",
        "# fit network\n",
        "history = model.fit(train_X, train_y, epochs=15 , batch_size=6, validation_data=(test_X, test_y),\n",
        "                    verbose=2, shuffle=False, validation_split = 0.1)\n",
        "# plot historyz\n",
        "pyplot.xlabel(\"epoch\")\n",
        "pyplot.ylabel(\"loss\")\n",
        "pyplot.plot(history.history['loss'], label='train')\n",
        "pyplot.plot(history.history['val_loss'], label='test')\n",
        "pyplot.legend()\n",
        "pyplot.show()"
      ],
      "metadata": {
        "colab": {
          "base_uri": "https://localhost:8080/",
          "height": 830
        },
        "id": "V3JSTBSKHvr0",
        "outputId": "d0b9fa61-2955-4955-94bc-ffb6afc33ff1"
      },
      "execution_count": null,
      "outputs": [
        {
          "output_type": "stream",
          "name": "stdout",
          "text": [
            "Epoch 1/15\n",
            "20/20 - 2s - loss: 0.4729 - accuracy: 0.1197 - val_loss: 0.3337 - val_accuracy: 0.1538 - 2s/epoch - 97ms/step\n",
            "Epoch 2/15\n",
            "20/20 - 0s - loss: 0.3887 - accuracy: 0.1197 - val_loss: 0.2621 - val_accuracy: 0.1538 - 113ms/epoch - 6ms/step\n",
            "Epoch 3/15\n",
            "20/20 - 0s - loss: 0.2986 - accuracy: 0.1197 - val_loss: 0.2484 - val_accuracy: 0.1538 - 114ms/epoch - 6ms/step\n",
            "Epoch 4/15\n",
            "20/20 - 0s - loss: 0.2368 - accuracy: 0.1111 - val_loss: 0.2060 - val_accuracy: 0.8462 - 113ms/epoch - 6ms/step\n",
            "Epoch 5/15\n",
            "20/20 - 0s - loss: 0.1973 - accuracy: 0.7436 - val_loss: 0.1703 - val_accuracy: 0.8462 - 140ms/epoch - 7ms/step\n",
            "Epoch 6/15\n",
            "20/20 - 0s - loss: 0.1802 - accuracy: 0.7436 - val_loss: 0.1555 - val_accuracy: 0.8462 - 142ms/epoch - 7ms/step\n",
            "Epoch 7/15\n",
            "20/20 - 0s - loss: 0.1778 - accuracy: 0.7436 - val_loss: 0.1494 - val_accuracy: 0.8462 - 143ms/epoch - 7ms/step\n",
            "Epoch 8/15\n",
            "20/20 - 0s - loss: 0.1748 - accuracy: 0.7436 - val_loss: 0.1485 - val_accuracy: 0.8462 - 120ms/epoch - 6ms/step\n",
            "Epoch 9/15\n",
            "20/20 - 0s - loss: 0.1736 - accuracy: 0.7436 - val_loss: 0.1492 - val_accuracy: 0.8462 - 120ms/epoch - 6ms/step\n",
            "Epoch 10/15\n",
            "20/20 - 0s - loss: 0.1732 - accuracy: 0.7436 - val_loss: 0.1497 - val_accuracy: 0.8462 - 119ms/epoch - 6ms/step\n",
            "Epoch 11/15\n",
            "20/20 - 0s - loss: 0.1716 - accuracy: 0.7436 - val_loss: 0.1505 - val_accuracy: 0.8462 - 117ms/epoch - 6ms/step\n",
            "Epoch 12/15\n",
            "20/20 - 0s - loss: 0.1717 - accuracy: 0.7436 - val_loss: 0.1503 - val_accuracy: 0.8462 - 137ms/epoch - 7ms/step\n",
            "Epoch 13/15\n",
            "20/20 - 0s - loss: 0.1704 - accuracy: 0.7436 - val_loss: 0.1515 - val_accuracy: 0.8462 - 134ms/epoch - 7ms/step\n",
            "Epoch 14/15\n",
            "20/20 - 0s - loss: 0.1704 - accuracy: 0.7436 - val_loss: 0.1505 - val_accuracy: 0.8462 - 134ms/epoch - 7ms/step\n",
            "Epoch 15/15\n",
            "20/20 - 0s - loss: 0.1700 - accuracy: 0.7436 - val_loss: 0.1534 - val_accuracy: 0.8462 - 112ms/epoch - 6ms/step\n"
          ]
        },
        {
          "output_type": "display_data",
          "data": {
            "text/plain": [
              "<Figure size 432x288 with 1 Axes>"
            ],
            "image/png": "[encoded data removed]"
          },
          "metadata": {
            "needs_background": "light"
          }
        }
      ]
    },
    {
      "cell_type": "code",
      "source": [
        "from sklearn.metrics import mean_squared_error\n",
        "# # make a prediction\n",
        "prediction = model.predict(test_X)\n",
        "\n",
        "# calculate RMSE\n",
        "rmse = np.sqrt(mean_squared_error(test_y, prediction))\n",
        "print('Test RMSE: %.3f' % rmse)\n",
        "\n",
        "loss, acc = model.evaluate(test_X, test_y, batch_size=1)\n",
        "print(\"loss : \", loss)\n",
        "print(\"acc : \" , acc)\n",
        "\n",
        "# R2 구하기\n",
        "from sklearn.metrics import r2_score\n",
        "r2_y_predict = r2_score(test_y, prediction)\n",
        "print(\"R2 : \", r2_y_predict)"
      ],
      "metadata": {
        "id": "VUKfhrHqI9SY",
        "colab": {
          "base_uri": "https://localhost:8080/"
        },
        "outputId": "52a66fde-776c-4c23-e81d-6995c7b82db1"
      },
      "execution_count": null,
      "outputs": [
        {
          "output_type": "stream",
          "name": "stdout",
          "text": [
            "Test RMSE: 0.229\n",
            "78/78 [==============================] - 0s 2ms/step - loss: 0.1728 - accuracy: 0.8205\n",
            "loss :  0.17282509803771973\n",
            "acc :  0.8205128312110901\n",
            "R2 :  0.05031317535547841\n"
          ]
        }
      ]
    },
    {
      "cell_type": "markdown",
      "source": [
        ""
      ],
      "metadata": {
        "id": "qIsDcjhiGq3D"
      }
    },
    {
      "cell_type": "code",
      "source": [
        "\n",
        "# 다음 날의 주행을 예측하기 위해서는 현재로부터 6일 전의 데이터를 넣고 추출시켜야 함\n",
        "tst_tim = str(datetime.datetime.now() - datetime.timedelta(days = 6))\n",
        "tst_tim = tst_tim[:tst_tim.find(' ')].replace('-', '')\n",
        "print(tst_tim)\n",
        "\n",
        "predic_data = []\n",
        "predic_data.append(read_csv('/content/drive/MyDrive/dataset/pollution_data' + '/fake_data_' + tst_tim +'.csv',  parse_dates = [['year', 'month', 'day', 'hour']], index_col=0, date_parser=parse))\n",
        "\n",
        "\n",
        "predic_data = concat([predic_data[i] for i in range(len(predic_data))], axis=0)\n",
        "predic_data.drop('No', axis=1, inplace=True) \n",
        "# manually specify column names\n",
        "predic_data.columns = ['local', 'temp', 'humidity', 'metter']\n",
        "predic_data.index.name = 'date'\n",
        "\n",
        "print(predic_data.head(5)) \n",
        "\n",
        "predic_values = predic_data.drop(['local'], axis = 1).values\n",
        "# integer encode direction\n",
        "encoder = LabelEncoder()\n",
        "# ensure all data is float\n",
        "predic_values = predic_values.astype('float32')\n",
        "# normalize features\n",
        "scaler = MinMaxScaler(feature_range=(0, 1))\n",
        "predic_scaled = scaler.fit_transform(predic_values)\n",
        "# frame as supervised learning\n",
        "predic_scaled = predic_scaled.reshape(13,6,3)\n",
        "predic = np.array(model.predict(predic_scaled))\n",
        "print(predic_scaled)"
      ],
      "metadata": {
        "id": "iVQ8jGIPGVGg",
        "colab": {
          "base_uri": "https://localhost:8080/"
        },
        "outputId": "f709feee-39f3-456b-ba13-bff884b0001a"
      },
      "execution_count": null,
      "outputs": [
        {
          "output_type": "stream",
          "name": "stdout",
          "text": [
            "20220817\n",
            "                     local   temp  humidity  metter\n",
            "date                                               \n",
            "2022-08-17 09:00:00      1   15.3      58.8       3\n",
            "2022-08-17 09:00:00      2   15.6      58.9       3\n",
            "2022-08-17 09:00:00      3  156.8      58.4       2\n",
            "2022-08-17 09:00:00      4   15.9      56.5       2\n",
            "2022-08-17 09:00:00      5   15.4      57.1       1\n",
            "[[[1.4114305e-03 9.7604775e-01 1.0000000e+00]\n",
            "  [3.5285801e-03 9.8203588e-01 1.0000000e+00]\n",
            "  [1.0000000e+00 9.5209575e-01 6.6666669e-01]\n",
            "  [5.6457222e-03 8.3832335e-01 6.6666669e-01]\n",
            "  [2.1171421e-03 8.7425137e-01 3.3333334e-01]\n",
            "  [0.0000000e+00 1.0000000e+00 3.3333334e-01]]\n",
            "\n",
            " [[6.3514411e-03 9.2814350e-01 3.3333334e-01]\n",
            "  [7.0571601e-03 9.1017962e-01 3.3333334e-01]\n",
            "  [1.4820039e-02 9.3413162e-01 6.6666669e-01]\n",
            "  [1.5525751e-02 7.9640698e-01 0.0000000e+00]\n",
            "  [2.4700068e-02 7.4251485e-01 0.0000000e+00]\n",
            "  [2.6111491e-02 7.1257496e-01 3.3333334e-01]]\n",
            "\n",
            " [[3.2462947e-02 8.3832335e-01 6.6666669e-01]\n",
            "  [2.6817210e-02 7.8443098e-01 3.3333334e-01]\n",
            "  [3.0345790e-02 7.9041910e-01 3.3333334e-01]\n",
            "  [3.8108669e-02 7.5449085e-01 3.3333334e-01]\n",
            "  [3.8814388e-02 7.0059872e-01 3.3333334e-01]\n",
            "  [3.6697231e-02 6.4670634e-01 0.0000000e+00]]\n",
            "\n",
            " [[3.5991527e-02 5.9281445e-01 6.6666669e-01]\n",
            "  [4.2342983e-02 6.0479021e-01 3.3333334e-01]\n",
            "  [4.1637264e-02 5.9880233e-01 3.3333334e-01]\n",
            "  [5.0105862e-02 5.5688620e-01 3.3333334e-01]\n",
            "  [5.0811566e-02 6.8263483e-01 3.3333334e-01]\n",
            "  [5.2928723e-02 6.7065859e-01 0.0000000e+00]]\n",
            "\n",
            " [[4.7988705e-02 6.2874246e-01 6.6666669e-01]\n",
            "  [4.3048702e-02 5.7485008e-01 3.3333334e-01]\n",
            "  [5.2928723e-02 6.8263483e-01 3.3333334e-01]\n",
            "  [4.7282986e-02 7.7245498e-01 6.6666669e-01]\n",
            "  [4.4460125e-02 6.7664647e-01 3.3333334e-01]\n",
            "  [6.0691603e-02 7.3053885e-01 3.3333334e-01]]\n",
            "\n",
            " [[5.9280165e-02 9.6407175e-01 6.6666669e-01]\n",
            "  [5.7163022e-02 7.6047897e-01 3.3333334e-01]\n",
            "  [4.3754406e-02 4.6706581e-01 3.3333334e-01]\n",
            "  [5.0105862e-02 3.8922143e-01 3.3333334e-01]\n",
            "  [4.8694424e-02 3.2934117e-01 3.3333334e-01]\n",
            "  [4.3754406e-02 2.8143716e-01 0.0000000e+00]]\n",
            "\n",
            " [[4.1637264e-02 3.5928130e-01 3.3333334e-01]\n",
            "  [4.3048702e-02 2.9940104e-01 3.3333334e-01]\n",
            "  [4.3754406e-02 3.2934117e-01 6.6666669e-01]\n",
            "  [2.8934367e-02 2.8143716e-01 3.3333334e-01]\n",
            "  [2.8934367e-02 2.2754478e-01 3.3333334e-01]\n",
            "  [2.9640071e-02 3.7125754e-01 3.3333334e-01]]\n",
            "\n",
            " [[2.2582911e-02 4.3712568e-01 1.0000000e+00]\n",
            "  [2.6817210e-02 2.1556878e-01 3.3333334e-01]\n",
            "  [2.2582911e-02 0.0000000e+00 6.6666669e-01]\n",
            "  [2.1877207e-02 5.9878826e-03 3.3333334e-01]\n",
            "  [2.1877207e-02 1.0778427e-01 3.3333334e-01]\n",
            "  [2.6817210e-02 2.1556878e-01 3.3333334e-01]]\n",
            "\n",
            " [[2.1171488e-02 4.7305393e-01 6.6666669e-01]\n",
            "  [2.2582911e-02 6.1077833e-01 3.3333334e-01]\n",
            "  [2.1171488e-02 5.1496983e-01 3.3333334e-01]\n",
            "  [1.9760050e-02 5.3892207e-01 0.0000000e+00]\n",
            "  [2.3994349e-02 5.8083820e-01 3.3333334e-01]\n",
            "  [2.1171488e-02 6.2874246e-01 3.3333334e-01]]\n",
            "\n",
            " [[2.3994349e-02 5.6886220e-01 6.6666669e-01]\n",
            "  [2.3994349e-02 5.3293419e-01 6.6666669e-01]\n",
            "  [1.4820039e-02 5.4490995e-01 3.3333334e-01]\n",
            "  [1.4820039e-02 5.6886220e-01 3.3333334e-01]\n",
            "  [1.9054331e-02 5.2694607e-01 3.3333334e-01]\n",
            "  [1.9760050e-02 3.8922143e-01 6.6666669e-01]]\n",
            "\n",
            " [[2.1171488e-02 4.6706581e-01 1.0000000e+00]\n",
            "  [1.6937189e-02 4.4910169e-01 3.3333334e-01]\n",
            "  [1.1997163e-02 5.6886220e-01 3.3333334e-01]\n",
            "  [9.8800212e-03 5.8083820e-01 0.0000000e+00]\n",
            "  [7.7628791e-03 5.8682632e-01 3.3333334e-01]\n",
            "  [1.4114320e-02 6.1077833e-01 3.3333334e-01]]\n",
            "\n",
            " [[1.4820039e-02 4.3712568e-01 1.0000000e+00]\n",
            "  [1.8348627e-02 4.4311380e-01 6.6666669e-01]\n",
            "  [1.1997163e-02 3.8323355e-01 0.0000000e+00]\n",
            "  [1.2702882e-02 2.8143716e-01 3.3333334e-01]\n",
            "  [6.3514411e-03 2.9341316e-01 3.3333334e-01]\n",
            "  [9.8800212e-03 2.8143716e-01 0.0000000e+00]]\n",
            "\n",
            " [[2.8228611e-03 2.8742504e-01 3.3333334e-01]\n",
            "  [2.1171421e-03 2.1556878e-01 3.3333334e-01]\n",
            "  [7.0571154e-04 1.7964053e-01 3.3333334e-01]\n",
            "  [9.8800212e-03 3.0538893e-01 3.3333334e-01]\n",
            "  [8.4685832e-03 3.4730530e-01 0.0000000e+00]\n",
            "  [9.1743022e-03 2.3353291e-01 0.0000000e+00]]]\n"
          ]
        }
      ]
    },
    {
      "cell_type": "markdown",
      "source": [
        "# 정화 시간 match\n",
        "- softmax 함수를 구현\n",
        "- predict로 구한 다음 날의 오염도를 sftmax함수에 넣고 주행 시간 구하기"
      ],
      "metadata": {
        "id": "WSSMad9V_iH6"
      }
    },
    {
      "cell_type": "code",
      "source": [
        "#softmax function \n",
        "def softmax(a):\n",
        "  exp_a = np.exp(a)\n",
        "  sum_exp_a = np.sum(exp_a)\n",
        "  y = exp_a / sum_exp_a\n",
        "  return y"
      ],
      "metadata": {
        "id": "c1BijOAD_hwv"
      },
      "execution_count": null,
      "outputs": []
    },
    {
      "cell_type": "code",
      "source": [
        "# results clean_time\n",
        "clean_time = np.array([])\n",
        "local = np.array([])\n",
        "for i in predic:\n",
        "  clean_time = np.append(clean_time, [int(round(i)) for i in (softmax(i)*60)])\n",
        "  local = np.append(local, np.arange(1,7))\n",
        "clean_time = clean_time.reshape(clean_time.shape[0],1)\n",
        "local      = local.reshape(local.shape[0],1)\n",
        "scadul     = np.concatenate((local, clean_time), axis = 1)\n",
        "columns    = [ 'local', 'stay_time']\n",
        "send_df    = DataFrame(scadul, columns = columns)\n",
        "send_df    = send_df.set_index('local')\n",
        "print(send_df)\n",
        "send_df.to_csv('/content/drive/MyDrive/dataset/pollution_data/send.csv')"
      ],
      "metadata": {
        "id": "Sdf7k4KcAkPT",
        "colab": {
          "base_uri": "https://localhost:8080/"
        },
        "outputId": "38cb63f8-ef55-4cdd-8517-77654580e4a9"
      },
      "execution_count": null,
      "outputs": [
        {
          "output_type": "stream",
          "name": "stdout",
          "text": [
            "       stay_time\n",
            "local           \n",
            "1.0         13.0\n",
            "2.0         10.0\n",
            "3.0         10.0\n",
            "4.0          9.0\n",
            "5.0          8.0\n",
            "...          ...\n",
            "2.0         10.0\n",
            "3.0         10.0\n",
            "4.0          9.0\n",
            "5.0          9.0\n",
            "6.0          9.0\n",
            "\n",
            "[78 rows x 1 columns]\n"
          ]
        }
      ]
    },
    {
      "cell_type": "code",
      "source": [
        "# compare prediction and db\n",
        "tomorrow_time = str(datetime.datetime.now() + datetime.timedelta(days = 1))\n",
        "tomorrow_time = tomorrow_time[:tomorrow_time.find(' ')].replace('-', '')\n",
        "tomorrow_data=np.array([])\n",
        "tomorrow_data = np.append(tomorrow_data,read_csv('/content/drive/MyDrive/dataset/pollution_data' + '/fake_data_' + tomorrow_time +'.csv',  parse_dates = [['year', 'month', 'day', 'hour']], index_col=0, date_parser=parse)['metter'].values)\n",
        "tomorrow_data = tomorrow_data.reshape(int(tomorrow_data.shape[0]/6),6)\n",
        "\n",
        "\n",
        "real_clean_time = np.array([])\n",
        "for i in tomorrow_data:\n",
        "  real_clean_time = np.append(real_clean_time, [int(round(i)) for i in (softmax(i)*60)])\n",
        "  \n",
        "real_clean_time = real_clean_time.reshape(real_clean_time.shape[0],1)\n",
        "rmse = np.sqrt(mean_squared_error(real_clean_time, clean_time))\n",
        "\n",
        "#예측 결과 100% 맞음\n",
        "#다만, 현재 예측한 결과는 train_data에 이미 있는 값임\n",
        "time = np.concatenate((real_clean_time, clean_time), axis = 1)\n",
        "print(time)\n",
        "print('Test RMSE: %.3f' % rmse)\n"
      ],
      "metadata": {
        "id": "7sgSYs1yPLaa",
        "colab": {
          "base_uri": "https://localhost:8080/"
        },
        "outputId": "a78bfae8-537f-48ad-c53f-b8f633b562c5"
      },
      "execution_count": null,
      "outputs": [
        {
          "output_type": "stream",
          "name": "stdout",
          "text": [
            "[[ 7. 13.]\n",
            " [20. 10.]\n",
            " [20. 10.]\n",
            " [ 7.  9.]\n",
            " [ 3.  8.]\n",
            " [ 3.  9.]\n",
            " [ 4. 11.]\n",
            " [28. 10.]\n",
            " [10. 10.]\n",
            " [10. 10.]\n",
            " [ 4. 10.]\n",
            " [ 4. 10.]\n",
            " [31. 11.]\n",
            " [12. 10.]\n",
            " [ 4. 10.]\n",
            " [ 4. 10.]\n",
            " [ 4. 10.]\n",
            " [ 4. 10.]\n",
            " [ 6. 12.]\n",
            " [17. 10.]\n",
            " [ 6. 10.]\n",
            " [ 6.  9.]\n",
            " [ 6.  9.]\n",
            " [17.  9.]\n",
            " [15. 12.]\n",
            " [ 5. 10.]\n",
            " [ 5. 10.]\n",
            " [15.  9.]\n",
            " [ 5.  9.]\n",
            " [15.  9.]\n",
            " [ 9. 12.]\n",
            " [25. 10.]\n",
            " [ 9. 10.]\n",
            " [ 3.  9.]\n",
            " [ 9.  9.]\n",
            " [ 3.  9.]\n",
            " [ 8. 12.]\n",
            " [ 8. 10.]\n",
            " [23. 10.]\n",
            " [ 8.  9.]\n",
            " [ 8.  9.]\n",
            " [ 3.  9.]\n",
            " [ 3. 13.]\n",
            " [ 9. 11.]\n",
            " [25. 10.]\n",
            " [ 9.  9.]\n",
            " [ 3.  9.]\n",
            " [ 9.  9.]\n",
            " [23. 12.]\n",
            " [ 8. 10.]\n",
            " [ 8. 10.]\n",
            " [ 3.  9.]\n",
            " [ 8.  9.]\n",
            " [ 8.  9.]\n",
            " [15. 13.]\n",
            " [15. 10.]\n",
            " [ 6. 10.]\n",
            " [ 6.  9.]\n",
            " [ 2.  9.]\n",
            " [15.  9.]\n",
            " [23. 12.]\n",
            " [ 8. 10.]\n",
            " [ 8. 10.]\n",
            " [ 3.  9.]\n",
            " [ 8.  9.]\n",
            " [ 8.  9.]\n",
            " [25. 12.]\n",
            " [ 9. 10.]\n",
            " [ 3. 10.]\n",
            " [ 9.  9.]\n",
            " [ 9.  9.]\n",
            " [ 3.  9.]\n",
            " [20. 12.]\n",
            " [20. 10.]\n",
            " [ 7. 10.]\n",
            " [ 7.  9.]\n",
            " [ 3.  9.]\n",
            " [ 3.  9.]]\n",
            "Test RMSE: 6.699\n"
          ]
        }
      ]
    }
  ]
}